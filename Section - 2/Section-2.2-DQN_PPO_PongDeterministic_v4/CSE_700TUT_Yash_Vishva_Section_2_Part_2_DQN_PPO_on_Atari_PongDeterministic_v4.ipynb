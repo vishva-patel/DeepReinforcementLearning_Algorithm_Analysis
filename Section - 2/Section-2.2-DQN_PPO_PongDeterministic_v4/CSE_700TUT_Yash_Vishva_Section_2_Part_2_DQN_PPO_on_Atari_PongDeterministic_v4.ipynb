{
  "nbformat": 4,
  "nbformat_minor": 0,
  "metadata": {
    "kernelspec": {
      "display_name": "Python 3",
      "language": "python",
      "name": "python3"
    },
    "language_info": {
      "codemirror_mode": {
        "name": "ipython",
        "version": 3
      },
      "file_extension": ".py",
      "mimetype": "text/x-python",
      "name": "python",
      "nbconvert_exporter": "python",
      "pygments_lexer": "ipython3",
      "version": "3.6.5"
    },
    "colab": {
      "name": "CSE_700TUT_Yash_Vishva_Section-2_Part-2_DQN_PPO_on_Atari_PongDeterministic-v4.ipynb",
      "provenance": [],
      "collapsed_sections": []
    }
  },
  "cells": [
    {
      "cell_type": "markdown",
      "metadata": {
        "id": "xglQwX4aoY0o",
        "colab_type": "text"
      },
      "source": [
        "## 1 - PPO on Atari PongDeterministic-v4"
      ]
    },
    {
      "cell_type": "code",
      "metadata": {
        "id": "nU82QDho9T-7",
        "colab_type": "code",
        "colab": {}
      },
      "source": [
        "# 1 - Install and import required files\n",
        "# !pip install keras-gym -U\n",
        "import gym\n",
        "import keras_gym as km\n",
        "from tensorflow.keras.layers import Conv2D, Lambda, Dense, Flatten\n",
        "from tensorflow.keras import backend as K\n",
        "import pandas as pd\n",
        "import matplotlib.pyplot as plt"
      ],
      "execution_count": 0,
      "outputs": []
    },
    {
      "cell_type": "code",
      "metadata": {
        "id": "6IYasFvD9T-_",
        "colab_type": "code",
        "outputId": "1f4bcf9e-b807-47e7-aa92-ae5580ba01dd",
        "colab": {
          "base_uri": "https://localhost:8080/",
          "height": 935
        }
      },
      "source": [
        "# 2 - Pre processing\n",
        "env = gym.make('PongDeterministic-v4')\n",
        "env = km.wrappers.ImagePreprocessor(env, height=105, width=80, grayscale=True)\n",
        "env = km.wrappers.FrameStacker(env, num_frames=3)\n",
        "env = km.wrappers.TrainMonitor(env)\n",
        "\n",
        "# 3 - show logs from TrainMonitor\n",
        "km.enable_logging()\n",
        "\n",
        "# 4 - Function approximator method\n",
        "class FunctionApprox(km.FunctionApproximator):\n",
        "    def body(self, S):\n",
        "        def diff_transform(S):\n",
        "            S = K.cast(S, 'float32') / 255\n",
        "            M = km.utils.diff_transform_matrix(num_frames=3)\n",
        "            return K.dot(S, M)\n",
        "\n",
        "        X = Lambda(diff_transform)(S)\n",
        "        X = Conv2D(filters=16, kernel_size=8, strides=4, activation='relu')(X)\n",
        "        X = Conv2D(filters=32, kernel_size=4, strides=2, activation='relu')(X)\n",
        "        X = Flatten()(X)\n",
        "        X = Dense(units=256, activation='relu')(X)\n",
        "        return X\n",
        "\n",
        "# 5 - Function approximator params\n",
        "params = FunctionApprox(env, lr=0.00025)\n",
        "pi = km.SoftmaxPolicy(params, update_strategy='ppo')\n",
        "v = km.V(params, gamma=0.99, bootstrap_n=10, bootstrap_with_target_model=True)\n",
        "actor_critic = km.ActorCritic(pi, v)\n",
        "total_rewards_list_env1 = []\n",
        "total_reward = 0\n",
        "\n",
        "# 6 - Replay buffer\n",
        "buffer = km.caching.ExperienceReplayBuffer.from_value_function(\n",
        "    value_function=v, capacity=256, batch_size=64)\n",
        "\n",
        "\n",
        "# 7 - Execution of episodes and result\n",
        "while env.T < 50000:\n",
        "    current_episode = env.reset()\n",
        "\n",
        "    # 7.1 - Execution\n",
        "    for t in range(env.spec.max_episode_steps):\n",
        "        a = pi(current_episode, use_target_model=True)  # target_model == pi_old\n",
        "        next_episode, reward, terminate, data = env.step(a)\n",
        "        total_reward += reward\n",
        "        total_rewards_list_env1.append(total_reward)\n",
        "\n",
        "        buffer.add(current_episode, a, reward, terminate, env.ep)\n",
        "\n",
        "        if len(buffer) >= buffer.capacity:\n",
        "            # use 4 epochs per round\n",
        "            num_batches = int(4 * buffer.capacity / buffer.batch_size)\n",
        "            for _ in range(num_batches):\n",
        "                actor_critic.batch_update(*buffer.sample())\n",
        "            buffer.clear()\n",
        "            actor_critic.sync_target_model(tau=0.1)\n",
        "\n",
        "        if terminate:\n",
        "            break\n",
        "\n",
        "        current_episode = next_episode\n",
        "\n",
        "    # 7.2 - Generate result\n",
        "    if env.ep % 50 == 0:\n",
        "        km.utils.generate_gif(\n",
        "            env=env,\n",
        "            policy=pi,\n",
        "            filepath='./data/ppo/gifs/ep{:06d}.gif'.format(env.ep),\n",
        "            resize_to=(320, 420))"
      ],
      "execution_count": 0,
      "outputs": [
        {
          "output_type": "stream",
          "text": [
            "INFO:TrainMonitor:ep: 1, T: 1,026, G: -20, avg_G: -20, t: 1025, dt: 16.617ms, loss: 0.247, policy/entropy: 1.79, policy/kl_div: 0.00448, policy/loss: 0.0606, value/loss: 0.0931\n",
            "INFO:TrainMonitor:ep: 2, T: 2,062, G: -21, avg_G: -20.5, t: 1035, dt: 14.591ms, loss: 0.177, policy/entropy: 1.79, policy/kl_div: 0.00199, policy/loss: 0.0165, value/loss: 0.0803\n",
            "INFO:TrainMonitor:ep: 3, T: 2,827, G: -21, avg_G: -20.7, t: 764, dt: 14.540ms, loss: 0.172, policy/entropy: 1.79, policy/kl_div: 0.00271, policy/loss: 0.00374, value/loss: 0.0842\n",
            "INFO:TrainMonitor:ep: 4, T: 3,819, G: -19, avg_G: -20.2, t: 991, dt: 14.968ms, loss: 0.14, policy/entropy: 1.79, policy/kl_div: 0.00483, policy/loss: -0.00759, value/loss: 0.0739\n",
            "INFO:TrainMonitor:ep: 5, T: 4,674, G: -21, avg_G: -20.4, t: 854, dt: 13.649ms, loss: 0.128, policy/entropy: 1.79, policy/kl_div: 0.00362, policy/loss: -0.00982, value/loss: 0.0691\n",
            "INFO:TrainMonitor:ep: 6, T: 5,868, G: -19, avg_G: -20.2, t: 1193, dt: 15.568ms, loss: 0.123, policy/entropy: 1.79, policy/kl_div: 0.00253, policy/loss: -0.00596, value/loss: 0.0646\n",
            "INFO:TrainMonitor:ep: 7, T: 6,708, G: -21, avg_G: -20.3, t: 839, dt: 13.542ms, loss: 0.104, policy/entropy: 1.79, policy/kl_div: 0.00176, policy/loss: -0.00811, value/loss: 0.0562\n",
            "INFO:TrainMonitor:ep: 8, T: 7,663, G: -20, avg_G: -20.2, t: 954, dt: 12.325ms, loss: 0.0843, policy/entropy: 1.79, policy/kl_div: 0.00205, policy/loss: -0.0113, value/loss: 0.0478\n",
            "INFO:TrainMonitor:ep: 9, T: 8,662, G: -20, avg_G: -20.2, t: 998, dt: 14.711ms, loss: 0.0894, policy/entropy: 1.79, policy/kl_div: 0.00396, policy/loss: -0.00964, value/loss: 0.0495\n",
            "INFO:TrainMonitor:ep: 10, T: 9,594, G: -20, avg_G: -20.2, t: 931, dt: 15.515ms, loss: 0.0724, policy/entropy: 1.79, policy/kl_div: 0.00315, policy/loss: -0.0131, value/loss: 0.0427\n",
            "INFO:TrainMonitor:ep: 11, T: 10,573, G: -20, avg_G: -20.2, t: 978, dt: 12.053ms, loss: 0.0695, policy/entropy: 1.79, policy/kl_div: 0.00196, policy/loss: -0.0118, value/loss: 0.0406\n",
            "INFO:TrainMonitor:ep: 12, T: 11,486, G: -21, avg_G: -20.2, t: 912, dt: 20.507ms, loss: 0.0511, policy/entropy: 1.79, policy/kl_div: 0.00221, policy/loss: -0.0121, value/loss: 0.0316\n",
            "INFO:TrainMonitor:ep: 13, T: 12,434, G: -20, avg_G: -20.2, t: 947, dt: 12.571ms, loss: 0.0433, policy/entropy: 1.79, policy/kl_div: 0.00363, policy/loss: -0.0138, value/loss: 0.0285\n",
            "INFO:TrainMonitor:ep: 14, T: 13,353, G: -20, avg_G: -20.2, t: 918, dt: 15.737ms, loss: 0.047, policy/entropy: 1.79, policy/kl_div: 0.00564, policy/loss: -0.0132, value/loss: 0.0301\n",
            "INFO:TrainMonitor:ep: 15, T: 14,208, G: -21, avg_G: -20.3, t: 854, dt: 13.440ms, loss: 0.0407, policy/entropy: 1.78, policy/kl_div: 0.00631, policy/loss: -0.0142, value/loss: 0.0274\n",
            "INFO:TrainMonitor:ep: 16, T: 15,049, G: -21, avg_G: -20.3, t: 840, dt: 13.535ms, loss: 0.0281, policy/entropy: 1.78, policy/kl_div: 0.00575, policy/loss: -0.0142, value/loss: 0.0212\n",
            "INFO:TrainMonitor:ep: 17, T: 16,051, G: -21, avg_G: -20.4, t: 1001, dt: 14.876ms, loss: 0.0363, policy/entropy: 1.79, policy/kl_div: 0.0037, policy/loss: -0.0153, value/loss: 0.0258\n",
            "INFO:TrainMonitor:ep: 18, T: 17,029, G: -20, avg_G: -20.3, t: 977, dt: 12.339ms, loss: 0.0411, policy/entropy: 1.79, policy/kl_div: 0.00336, policy/loss: -0.0136, value/loss: 0.0274\n",
            "INFO:TrainMonitor:ep: 19, T: 18,170, G: -20, avg_G: -20.3, t: 1140, dt: 15.857ms, loss: 0.0389, policy/entropy: 1.78, policy/kl_div: 0.00418, policy/loss: -0.0135, value/loss: 0.0262\n",
            "INFO:TrainMonitor:ep: 20, T: 19,336, G: -18, avg_G: -20.2, t: 1165, dt: 13.229ms, loss: 0.0509, policy/entropy: 1.78, policy/kl_div: 0.00519, policy/loss: -0.0178, value/loss: 0.0344\n",
            "INFO:TrainMonitor:ep: 21, T: 20,328, G: -20, avg_G: -20.2, t: 991, dt: 14.983ms, loss: 0.0562, policy/entropy: 1.78, policy/kl_div: 0.00284, policy/loss: -0.0138, value/loss: 0.035\n",
            "INFO:TrainMonitor:ep: 22, T: 21,259, G: -21, avg_G: -20.2, t: 930, dt: 12.758ms, loss: 0.0513, policy/entropy: 1.79, policy/kl_div: 0.00178, policy/loss: -0.0122, value/loss: 0.0317\n",
            "INFO:TrainMonitor:ep: 23, T: 22,301, G: -20, avg_G: -20.2, t: 1041, dt: 14.291ms, loss: 0.0553, policy/entropy: 1.79, policy/kl_div: 0.00113, policy/loss: -0.0138, value/loss: 0.0345\n",
            "INFO:TrainMonitor:ep: 24, T: 23,223, G: -20, avg_G: -20.2, t: 921, dt: 16.110ms, loss: 0.0484, policy/entropy: 1.79, policy/kl_div: 0.000662, policy/loss: -0.0138, value/loss: 0.0311\n",
            "INFO:TrainMonitor:ep: 25, T: 24,186, G: -20, avg_G: -20.2, t: 962, dt: 12.330ms, loss: 0.0488, policy/entropy: 1.79, policy/kl_div: 0.000584, policy/loss: -0.013, value/loss: 0.0309\n",
            "INFO:TrainMonitor:ep: 26, T: 25,226, G: -20, avg_G: -20.2, t: 1039, dt: 14.452ms, loss: 0.0447, policy/entropy: 1.79, policy/kl_div: 0.00278, policy/loss: -0.0138, value/loss: 0.0293\n",
            "INFO:TrainMonitor:ep: 27, T: 26,320, G: -19, avg_G: -20.1, t: 1093, dt: 13.818ms, loss: 0.0426, policy/entropy: 1.79, policy/kl_div: 0.00214, policy/loss: -0.0129, value/loss: 0.0277\n",
            "INFO:TrainMonitor:ep: 28, T: 27,173, G: -21, avg_G: -20.2, t: 852, dt: 16.737ms, loss: 0.0362, policy/entropy: 1.79, policy/kl_div: 0.00183, policy/loss: -0.0158, value/loss: 0.026\n",
            "INFO:TrainMonitor:ep: 29, T: 28,105, G: -20, avg_G: -20.2, t: 931, dt: 12.613ms, loss: 0.0319, policy/entropy: 1.79, policy/kl_div: 0.00158, policy/loss: -0.0176, value/loss: 0.0248\n",
            "INFO:TrainMonitor:ep: 30, T: 28,995, G: -20, avg_G: -20.2, t: 889, dt: 12.975ms, loss: 0.0459, policy/entropy: 1.79, policy/kl_div: 0.00251, policy/loss: -0.0156, value/loss: 0.0308\n",
            "INFO:TrainMonitor:ep: 31, T: 29,867, G: -21, avg_G: -20.2, t: 871, dt: 16.540ms, loss: 0.0419, policy/entropy: 1.79, policy/kl_div: 0.00353, policy/loss: -0.0142, value/loss: 0.0281\n",
            "INFO:TrainMonitor:ep: 32, T: 30,789, G: -20, avg_G: -20.2, t: 921, dt: 12.710ms, loss: 0.043, policy/entropy: 1.79, policy/kl_div: 0.00228, policy/loss: -0.0148, value/loss: 0.0289\n",
            "INFO:TrainMonitor:ep: 33, T: 31,925, G: -18, avg_G: -20.1, t: 1135, dt: 13.475ms, loss: 0.0523, policy/entropy: 1.79, policy/kl_div: 0.00122, policy/loss: -0.0184, value/loss: 0.0353\n",
            "INFO:TrainMonitor:ep: 34, T: 32,951, G: -19, avg_G: -20.1, t: 1025, dt: 14.541ms, loss: 0.054, policy/entropy: 1.79, policy/kl_div: 0.00146, policy/loss: -0.0151, value/loss: 0.0346\n",
            "INFO:TrainMonitor:ep: 35, T: 33,823, G: -20, avg_G: -20.1, t: 871, dt: 16.443ms, loss: 0.0367, policy/entropy: 1.79, policy/kl_div: 0.00338, policy/loss: -0.018, value/loss: 0.0273\n",
            "INFO:TrainMonitor:ep: 36, T: 34,785, G: -21, avg_G: -20.1, t: 961, dt: 12.302ms, loss: 0.047, policy/entropy: 1.79, policy/kl_div: 0.00229, policy/loss: -0.014, value/loss: 0.0305\n",
            "INFO:TrainMonitor:ep: 37, T: 35,758, G: -19, avg_G: -20.1, t: 972, dt: 15.077ms, loss: 0.0425, policy/entropy: 1.79, policy/kl_div: 0.00141, policy/loss: -0.02, value/loss: 0.0312\n",
            "INFO:TrainMonitor:ep: 38, T: 36,705, G: -21, avg_G: -20.1, t: 946, dt: 12.456ms, loss: 0.0393, policy/entropy: 1.79, policy/kl_div: 0.00147, policy/loss: -0.0179, value/loss: 0.0286\n",
            "INFO:TrainMonitor:ep: 39, T: 37,470, G: -21, avg_G: -20.1, t: 764, dt: 14.512ms, loss: 0.0267, policy/entropy: 1.79, policy/kl_div: 0.00147, policy/loss: -0.0163, value/loss: 0.0215\n",
            "INFO:TrainMonitor:ep: 40, T: 38,404, G: -21, avg_G: -20.2, t: 933, dt: 15.643ms, loss: 0.0291, policy/entropy: 1.79, policy/kl_div: 0.000873, policy/loss: -0.0151, value/loss: 0.0221\n",
            "INFO:TrainMonitor:ep: 41, T: 39,257, G: -21, avg_G: -20.2, t: 852, dt: 13.585ms, loss: 0.026, policy/entropy: 1.79, policy/kl_div: 0.000836, policy/loss: -0.0158, value/loss: 0.0209\n",
            "INFO:TrainMonitor:ep: 42, T: 40,100, G: -20, avg_G: -20.2, t: 842, dt: 13.600ms, loss: 0.0303, policy/entropy: 1.79, policy/kl_div: 0.0006, policy/loss: -0.0162, value/loss: 0.0233\n",
            "INFO:TrainMonitor:ep: 43, T: 41,079, G: -20, avg_G: -20.2, t: 978, dt: 15.976ms, loss: 0.0502, policy/entropy: 1.79, policy/kl_div: 0.00196, policy/loss: -0.0136, value/loss: 0.0319\n",
            "INFO:TrainMonitor:ep: 44, T: 41,900, G: -21, avg_G: -20.2, t: 820, dt: 13.851ms, loss: 0.037, policy/entropy: 1.79, policy/kl_div: 0.00193, policy/loss: -0.0161, value/loss: 0.0266\n",
            "INFO:TrainMonitor:ep: 45, T: 42,815, G: -21, avg_G: -20.2, t: 914, dt: 12.809ms, loss: 0.0352, policy/entropy: 1.79, policy/kl_div: 0.00157, policy/loss: -0.0162, value/loss: 0.0257\n",
            "INFO:TrainMonitor:ep: 46, T: 43,580, G: -21, avg_G: -20.2, t: 764, dt: 14.485ms, loss: 0.0234, policy/entropy: 1.79, policy/kl_div: 0.0022, policy/loss: -0.0158, value/loss: 0.0196\n",
            "INFO:TrainMonitor:ep: 47, T: 44,530, G: -19, avg_G: -20.2, t: 949, dt: 15.452ms, loss: 0.0355, policy/entropy: 1.79, policy/kl_div: 0.00318, policy/loss: -0.0154, value/loss: 0.0255\n",
            "INFO:TrainMonitor:ep: 48, T: 45,450, G: -20, avg_G: -20.2, t: 919, dt: 12.973ms, loss: 0.0347, policy/entropy: 1.79, policy/kl_div: 0.00355, policy/loss: -0.0198, value/loss: 0.0272\n",
            "INFO:TrainMonitor:ep: 49, T: 46,293, G: -20, avg_G: -20.2, t: 842, dt: 13.575ms, loss: 0.0385, policy/entropy: 1.79, policy/kl_div: 0.00374, policy/loss: -0.0169, value/loss: 0.0277\n",
            "INFO:TrainMonitor:ep: 50, T: 47,086, G: -21, avg_G: -20.2, t: 792, dt: 14.353ms, loss: 0.0301, policy/entropy: 1.79, policy/kl_div: 0.00358, policy/loss: -0.0174, value/loss: 0.0238\n",
            "INFO:TrainMonitor:ep: 51, T: 48,033, G: -21, avg_G: -20.2, t: 946, dt: 6.879ms, loss: 0.0301, policy/entropy: 1.79, policy/kl_div: 0.00358, policy/loss: -0.0174, value/loss: 0.0238\n",
            "INFO:generate_gif:recorded episode to: ./data/ppo/gifs/ep000050.gif\n",
            "INFO:TrainMonitor:ep: 52, T: 48,954, G: -21, avg_G: -20.2, t: 920, dt: 15.784ms, loss: 0.0367, policy/entropy: 1.79, policy/kl_div: 0.00355, policy/loss: -0.0181, value/loss: 0.0274\n",
            "INFO:TrainMonitor:ep: 53, T: 50,186, G: -19, avg_G: -20.2, t: 1231, dt: 12.548ms, loss: 0.0493, policy/entropy: 1.79, policy/kl_div: 0.00314, policy/loss: -0.0183, value/loss: 0.0338\n"
          ],
          "name": "stderr"
        }
      ]
    },
    {
      "cell_type": "code",
      "metadata": {
        "id": "GuwFU-T4hQ-K",
        "colab_type": "code",
        "outputId": "0c2b0beb-6dc5-4f9f-d658-7b2bcbb15362",
        "colab": {
          "base_uri": "https://localhost:8080/",
          "height": 329
        }
      },
      "source": [
        "print('\\n Total Loss List Graph:')\n",
        "plt.plot(total_rewards_list_env1)\n",
        "plt.title(\"Total Loss vs Epoch\")\n",
        "plt.xlabel('Epoch - Number of iterations')\n",
        "plt.ylabel('Total Loss')\n",
        "plt.grid(ls='--')\n",
        "plt.show()"
      ],
      "execution_count": 0,
      "outputs": [
        {
          "output_type": "stream",
          "text": [
            "\n",
            " Total Loss List Graph:\n"
          ],
          "name": "stdout"
        },
        {
          "output_type": "display_data",
          "data": {
            "image/png": "[encoded data removed]",
            "text/plain": [
              "<Figure size 432x288 with 1 Axes>"
            ]
          },
          "metadata": {
            "tags": [],
            "needs_background": "light"
          }
        }
      ]
    },
    {
      "cell_type": "markdown",
      "metadata": {
        "id": "M6IaTM7qnPk8",
        "colab_type": "text"
      },
      "source": [
        "## 2 - DQN on PongDeterministic-v4"
      ]
    },
    {
      "cell_type": "code",
      "metadata": {
        "id": "dsog_ncSlh4H",
        "colab_type": "code",
        "colab": {}
      },
      "source": [
        "# 1 - Install and import required files\n",
        "# !pip install keras-gym -U\n",
        "import gym\n",
        "import keras_gym as km\n",
        "from tensorflow.keras.layers import Conv2D, Lambda, Dense, Flatten\n",
        "from tensorflow.keras import backend as K\n",
        "import pandas as pd\n",
        "import matplotlib.pyplot as plt"
      ],
      "execution_count": 0,
      "outputs": []
    },
    {
      "cell_type": "code",
      "metadata": {
        "id": "CAx-Hjdqlx8M",
        "colab_type": "code",
        "outputId": "eb77b5b1-2b68-4cf9-e8ef-e2ec10b3046e",
        "colab": {
          "base_uri": "https://localhost:8080/",
          "height": 476
        }
      },
      "source": [
        "# 2 - Pre processing\n",
        "env = gym.make('PongDeterministic-v4')\n",
        "env = km.wrappers.ImagePreprocessor(env, height=105, width=80, grayscale=True)\n",
        "env = km.wrappers.FrameStacker(env, num_frames=3)\n",
        "env = km.wrappers.TrainMonitor(env)\n",
        "\n",
        "# 3 - show logs from TrainMonitor\n",
        "km.enable_logging()\n",
        "\n",
        "# 4 - Function approximator method\n",
        "class FunctionApprox(km.FunctionApproximator):\n",
        "    def body(self, S):\n",
        "        def diff_transform(S):\n",
        "            S = K.cast(S, 'float32') / 255\n",
        "            M = km.utils.diff_transform_matrix(num_frames=3)\n",
        "            return K.dot(S, M)\n",
        "\n",
        "        X = Lambda(diff_transform)(S)\n",
        "        X = Conv2D(filters=16, kernel_size=8, strides=4, activation='relu')(X)\n",
        "        X = Conv2D(filters=32, kernel_size=4, strides=2, activation='relu')(X)\n",
        "        X = Flatten()(X)\n",
        "        X = Dense(units=256, activation='relu')(X)\n",
        "        return X\n",
        "\n",
        "# 5 - Function approximator params\n",
        "params = FunctionApprox(env, lr=0.00025)\n",
        "q = km.QTypeII(\n",
        "    function_approximator=params,\n",
        "    gamma=0.99,\n",
        "    bootstrap_n=1,\n",
        "    bootstrap_with_target_model=True)\n",
        "\n",
        "# 6 - Replay buffer and policy\n",
        "buffer = km.caching.ExperienceReplayBuffer.from_value_function(\n",
        "    value_function=q,\n",
        "    capacity=10000,\n",
        "    batch_size=32)\n",
        "policy = km.EpsilonGreedy(q)\n",
        "\n",
        "# 7 -Update schedule\n",
        "buffer_warmup_period = 500\n",
        "target_model_sync_period = 100\n",
        "\n",
        "# 8 - Exploration\n",
        "def epsilon(T):\n",
        "    M = 1000\n",
        "    if T < M:\n",
        "        return 1 - 0.9 * T / M\n",
        "    if T < 2 * M:\n",
        "        return 0.1 - 0.09 * (T - M) / M\n",
        "    return 0.01\n",
        "\n",
        "total_rewards_list_env2 = []\n",
        "total_reward = 0\n",
        "\n",
        "\n",
        "# 9 - Execution of episodes and result\n",
        "while env.T < 30000:\n",
        "    current_episode = env.reset()\n",
        "\n",
        "    # 9.1 - Execution\n",
        "    for t in range(env.spec.max_episode_steps):\n",
        "        policy.epsilon = epsilon(env.T)\n",
        "        action = policy(current_episode)\n",
        "        next_episode, reward, done, data = env.step(action)\n",
        "        total_reward += reward\n",
        "        total_rewards_list_env2.append(total_reward)\n",
        "\n",
        "        buffer.add(current_episode, action, reward, done, env.ep)\n",
        "\n",
        "        if env.T > buffer_warmup_period:\n",
        "            q.batch_update(*buffer.sample())\n",
        "\n",
        "        if env.T % target_model_sync_period == 0:\n",
        "            q.sync_target_model()\n",
        "\n",
        "        if done:\n",
        "            break\n",
        "\n",
        "        current_episode = next_episode\n",
        "\n",
        "    # 9.2 - Generate result\n",
        "    if env.ep % 10 == 0 and env.T > buffer_warmup_period:\n",
        "        km.utils.generate_gif(\n",
        "            env=env,\n",
        "            policy=policy.set_epsilon(0.01),\n",
        "            filepath='./data/dqn/gifs/ep{:06d}.gif'.format(env.ep),\n",
        "            resize_to=(320, 420))\n"
      ],
      "execution_count": 0,
      "outputs": [
        {
          "output_type": "stream",
          "text": [
            "INFO:TrainMonitor:ep: 1, T: 1,007, G: -21, avg_G: -21, t: 1006, dt: 31.255ms, loss: 0.00722\n",
            "INFO:TrainMonitor:ep: 2, T: 1,878, G: -20, avg_G: -20.5, t: 870, dt: 56.216ms, loss: 0.0032\n",
            "INFO:TrainMonitor:ep: 3, T: 2,643, G: -21, avg_G: -20.7, t: 764, dt: 56.561ms, loss: 0.00175\n",
            "INFO:TrainMonitor:ep: 4, T: 3,468, G: -21, avg_G: -20.8, t: 824, dt: 56.539ms, loss: 0.00217\n",
            "INFO:TrainMonitor:ep: 5, T: 4,295, G: -21, avg_G: -20.8, t: 826, dt: 56.434ms, loss: 0.00263\n",
            "INFO:TrainMonitor:ep: 6, T: 5,347, G: -20, avg_G: -20.7, t: 1051, dt: 56.485ms, loss: 0.00299\n",
            "INFO:TrainMonitor:ep: 7, T: 6,331, G: -20, avg_G: -20.6, t: 983, dt: 56.636ms, loss: 0.00405\n",
            "INFO:TrainMonitor:ep: 8, T: 7,331, G: -18, avg_G: -20.2, t: 999, dt: 56.200ms, loss: 0.00345\n",
            "INFO:TrainMonitor:ep: 9, T: 8,202, G: -20, avg_G: -20.2, t: 870, dt: 56.537ms, loss: 0.00352\n",
            "INFO:TrainMonitor:ep: 10, T: 9,151, G: -19, avg_G: -20.1, t: 948, dt: 56.476ms, loss: 0.00322\n",
            "INFO:TrainMonitor:ep: 11, T: 9,944, G: -21, avg_G: -20.2, t: 792, dt: 5.924ms, loss: 0.00322\n",
            "INFO:generate_gif:recorded episode to: ./data/dqn/gifs/ep000010.gif\n",
            "INFO:TrainMonitor:ep: 12, T: 10,771, G: -21, avg_G: -20.2, t: 826, dt: 56.379ms, loss: 0.00338\n",
            "INFO:TrainMonitor:ep: 13, T: 11,773, G: -19, avg_G: -20.2, t: 1001, dt: 56.287ms, loss: 0.00379\n",
            "INFO:TrainMonitor:ep: 14, T: 13,035, G: -16, avg_G: -19.9, t: 1261, dt: 56.603ms, loss: 0.00616\n",
            "INFO:TrainMonitor:ep: 15, T: 14,146, G: -21, avg_G: -19.9, t: 1110, dt: 56.330ms, loss: 0.00571\n",
            "INFO:TrainMonitor:ep: 16, T: 15,430, G: -16, avg_G: -19.7, t: 1283, dt: 56.498ms, loss: 0.00601\n",
            "INFO:TrainMonitor:ep: 17, T: 16,731, G: -16, avg_G: -19.5, t: 1300, dt: 59.512ms, loss: 0.00586\n",
            "INFO:TrainMonitor:ep: 18, T: 18,182, G: -18, avg_G: -19.4, t: 1450, dt: 56.940ms, loss: 0.0055\n",
            "INFO:TrainMonitor:ep: 19, T: 19,573, G: -16, avg_G: -19.2, t: 1390, dt: 56.746ms, loss: 0.00526\n",
            "INFO:TrainMonitor:ep: 20, T: 21,333, G: -12, avg_G: -18.8, t: 1759, dt: 56.760ms, loss: 0.00653\n",
            "INFO:TrainMonitor:ep: 21, T: 23,339, G: -13, avg_G: -18.6, t: 2005, dt: 6.180ms, loss: 0.00652\n",
            "INFO:generate_gif:recorded episode to: ./data/dqn/gifs/ep000020.gif\n",
            "INFO:TrainMonitor:ep: 22, T: 25,593, G: -8, avg_G: -18.1, t: 2253, dt: 56.527ms, loss: 0.00536\n",
            "INFO:TrainMonitor:ep: 23, T: 27,317, G: -12, avg_G: -17.8, t: 1723, dt: 56.642ms, loss: 0.00559\n",
            "INFO:TrainMonitor:ep: 24, T: 29,796, G: -7, avg_G: -17.4, t: 2478, dt: 58.235ms, loss: 0.00444\n",
            "INFO:TrainMonitor:ep: 25, T: 31,939, G: -10, avg_G: -17.1, t: 2142, dt: 56.682ms, loss: 0.00513\n"
          ],
          "name": "stderr"
        }
      ]
    },
    {
      "cell_type": "code",
      "metadata": {
        "id": "1_etA_Ilvs0G",
        "colab_type": "code",
        "outputId": "9cbac38b-eff9-45c5-aa56-aa97c321f064",
        "colab": {
          "base_uri": "https://localhost:8080/",
          "height": 329
        }
      },
      "source": [
        "print('\\n Total Loss List Graph:')\n",
        "plt.plot(total_rewards_list_env2)\n",
        "plt.title(\"Total Loss vs Epoch\")\n",
        "plt.xlabel('Epoch - Number of iterations')\n",
        "plt.ylabel('Total Loss')\n",
        "plt.grid(ls='--')\n",
        "plt.show()"
      ],
      "execution_count": 0,
      "outputs": [
        {
          "output_type": "stream",
          "text": [
            "\n",
            " Total Loss List Graph:\n"
          ],
          "name": "stdout"
        },
        {
          "output_type": "display_data",
          "data": {
            "image/png": "[encoded data removed]",
            "text/plain": [
              "<Figure size 432x288 with 1 Axes>"
            ]
          },
          "metadata": {
            "tags": [],
            "needs_background": "light"
          }
        }
      ]
    }
  ]
}